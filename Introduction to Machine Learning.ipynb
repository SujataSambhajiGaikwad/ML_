{
 "cells": [
  {
   "cell_type": "code",
   "execution_count": 1,
   "id": "1de19387",
   "metadata": {},
   "outputs": [],
   "source": [
    "a=5"
   ]
  },
  {
   "cell_type": "code",
   "execution_count": 2,
   "id": "9bf6568c",
   "metadata": {},
   "outputs": [
    {
     "name": "stdout",
     "output_type": "stream",
     "text": [
      "5\n"
     ]
    }
   ],
   "source": [
    "print(a)"
   ]
  },
  {
   "cell_type": "code",
   "execution_count": 3,
   "id": "9e9fa976",
   "metadata": {},
   "outputs": [
    {
     "name": "stdout",
     "output_type": "stream",
     "text": [
      "Value of Var1: 2\n",
      "Value of Var2: 5.0\n",
      "Value of Var3: True\n",
      "Value of Var4: Machine Learning\n"
     ]
    }
   ],
   "source": [
    "var1=2\n",
    "var2=5.0\n",
    "var3=True\n",
    "var4=\"Machine Learning\"\n",
    "print(\"Value of Var1:\",var1)\n",
    "print(\"Value of Var2:\",var2)\n",
    "print(\"Value of Var3:\",var3)\n",
    "print(\"Value of Var4:\",var4)"
   ]
  },
  {
   "cell_type": "code",
   "execution_count": 4,
   "id": "6367b1c3",
   "metadata": {},
   "outputs": [
    {
     "data": {
      "text/plain": [
       "int"
      ]
     },
     "execution_count": 4,
     "metadata": {},
     "output_type": "execute_result"
    }
   ],
   "source": [
    "type(var1)"
   ]
  },
  {
   "cell_type": "code",
   "execution_count": 5,
   "id": "f9671911",
   "metadata": {},
   "outputs": [
    {
     "data": {
      "text/plain": [
       "float"
      ]
     },
     "execution_count": 5,
     "metadata": {},
     "output_type": "execute_result"
    }
   ],
   "source": [
    "type(var2)"
   ]
  },
  {
   "cell_type": "code",
   "execution_count": 6,
   "id": "4b9b226d",
   "metadata": {},
   "outputs": [
    {
     "data": {
      "text/plain": [
       "bool"
      ]
     },
     "execution_count": 6,
     "metadata": {},
     "output_type": "execute_result"
    }
   ],
   "source": [
    "type(var3)"
   ]
  },
  {
   "cell_type": "code",
   "execution_count": 7,
   "id": "590ccc42",
   "metadata": {},
   "outputs": [
    {
     "data": {
      "text/plain": [
       "str"
      ]
     },
     "execution_count": 7,
     "metadata": {},
     "output_type": "execute_result"
    }
   ],
   "source": [
    "type(var4)"
   ]
  },
  {
   "cell_type": "code",
   "execution_count": 8,
   "id": "d84c07ac",
   "metadata": {},
   "outputs": [
    {
     "name": "stdout",
     "output_type": "stream",
     "text": [
      "Bigger than 1\n"
     ]
    }
   ],
   "source": [
    "if var1>1:\n",
    "    print(\"Bigger than 1\")"
   ]
  },
  {
   "cell_type": "code",
   "execution_count": 9,
   "id": "f3af1459",
   "metadata": {},
   "outputs": [
    {
     "name": "stdout",
     "output_type": "stream",
     "text": [
      "x<y\n"
     ]
    }
   ],
   "source": [
    "x=10\n",
    "y=12\n",
    "# if x is greater than y\n",
    "if x>y:\n",
    "    print(\"x>y\")\n",
    "# if x is lesser than y\n",
    "elif x<y:\n",
    "    print(\"x<y\")\n",
    "else:\n",
    "    print(\"x=y\")\n"
   ]
  },
  {
   "cell_type": "code",
   "execution_count": 10,
   "id": "28269c04",
   "metadata": {},
   "outputs": [
    {
     "name": "stdout",
     "output_type": "stream",
     "text": [
      "Enter the number:34\n",
      "Enter the number:34\n",
      "x=y\n"
     ]
    }
   ],
   "source": [
    "x=int(input(\"Enter the number:\"))\n",
    "y=int(input(\"Enter the number:\"))\n",
    "# if x is greater than y\n",
    "if x>y:\n",
    "    print(\"x>y\")\n",
    "# if x is lesser than y\n",
    "elif x<y:\n",
    "    print(\"x<y\")\n",
    "else:\n",
    "    print(\"x=y\")\n"
   ]
  },
  {
   "cell_type": "code",
   "execution_count": 11,
   "id": "3f76fea8",
   "metadata": {},
   "outputs": [
    {
     "name": "stdout",
     "output_type": "stream",
     "text": [
      "False\n"
     ]
    }
   ],
   "source": [
    "x=10\n",
    "isGreater=true if x>15 else False\n",
    "print(isGreater)"
   ]
  },
  {
   "cell_type": "code",
   "execution_count": 12,
   "id": "f63408ac",
   "metadata": {},
   "outputs": [
    {
     "name": "stdout",
     "output_type": "stream",
     "text": [
      "range(1, 6)\n"
     ]
    }
   ],
   "source": [
    "Numbers=range(1,6)\n",
    "print(Numbers)"
   ]
  },
  {
   "cell_type": "markdown",
   "id": "b6aa8c65",
   "metadata": {},
   "source": [
    "## For LOOP"
   ]
  },
  {
   "cell_type": "code",
   "execution_count": 13,
   "id": "9fb3fd5d",
   "metadata": {},
   "outputs": [
    {
     "name": "stdout",
     "output_type": "stream",
     "text": [
      "1\n",
      "2\n",
      "3\n",
      "4\n",
      "5\n"
     ]
    }
   ],
   "source": [
    "for i in Numbers:\n",
    "    print(i)"
   ]
  },
  {
   "cell_type": "markdown",
   "id": "69c36bf9",
   "metadata": {},
   "source": [
    "## While Loop"
   ]
  },
  {
   "cell_type": "code",
   "execution_count": 14,
   "id": "fd277b36",
   "metadata": {},
   "outputs": [
    {
     "name": "stdout",
     "output_type": "stream",
     "text": [
      "1\n",
      "2\n",
      "3\n",
      "4\n",
      "done\n"
     ]
    }
   ],
   "source": [
    "i=1\n",
    "while i<5 :\n",
    "    print(i)\n",
    "    i=i+1\n",
    "print('done')"
   ]
  },
  {
   "cell_type": "markdown",
   "id": "18d762a2",
   "metadata": {},
   "source": [
    "## Function"
   ]
  },
  {
   "cell_type": "code",
   "execution_count": 18,
   "id": "bbee37ad",
   "metadata": {},
   "outputs": [],
   "source": [
    "def addframe(a,b):\n",
    "    return a+b"
   ]
  },
  {
   "cell_type": "code",
   "execution_count": 19,
   "id": "2503ba67",
   "metadata": {},
   "outputs": [
    {
     "data": {
      "text/plain": [
       "5"
      ]
     },
     "execution_count": 19,
     "metadata": {},
     "output_type": "execute_result"
    }
   ],
   "source": [
    "result=addframe(2,3)\n",
    "result"
   ]
  },
  {
   "cell_type": "code",
   "execution_count": 20,
   "id": "720de4d9",
   "metadata": {},
   "outputs": [
    {
     "data": {
      "text/plain": [
       "'pythonworkshope'"
      ]
     },
     "execution_count": 20,
     "metadata": {},
     "output_type": "execute_result"
    }
   ],
   "source": [
    "result=addframe(\"python\",\"workshope\")\n",
    "result"
   ]
  },
  {
   "cell_type": "code",
   "execution_count": 21,
   "id": "3905da7f",
   "metadata": {},
   "outputs": [],
   "source": [
    "def addelement(a,b=5):\n",
    "    return a+b"
   ]
  },
  {
   "cell_type": "code",
   "execution_count": 22,
   "id": "14d55020",
   "metadata": {},
   "outputs": [
    {
     "data": {
      "text/plain": [
       "10"
      ]
     },
     "execution_count": 22,
     "metadata": {},
     "output_type": "execute_result"
    }
   ],
   "source": [
    "addelement(5)"
   ]
  },
  {
   "cell_type": "code",
   "execution_count": 23,
   "id": "520448e8",
   "metadata": {},
   "outputs": [
    {
     "data": {
      "text/plain": [
       "7"
      ]
     },
     "execution_count": 23,
     "metadata": {},
     "output_type": "execute_result"
    }
   ],
   "source": [
    "addelement(2,5) ## b=5 the defalut value of b"
   ]
  },
  {
   "cell_type": "markdown",
   "id": "cf794ccb",
   "metadata": {},
   "source": [
    "## Working With Collection"
   ]
  },
  {
   "cell_type": "code",
   "execution_count": 24,
   "id": "d1ae0a2b",
   "metadata": {},
   "outputs": [],
   "source": [
    "emptylist=[]   ## Empty list"
   ]
  },
  {
   "cell_type": "code",
   "execution_count": 25,
   "id": "42a4d08e",
   "metadata": {},
   "outputs": [],
   "source": [
    "batsmen=['Rohit','Hardik','Dhawan','Kohli','Rahane','Rayudu','Dhoni']\n"
   ]
  },
  {
   "cell_type": "code",
   "execution_count": 27,
   "id": "0b46dfca",
   "metadata": {},
   "outputs": [
    {
     "data": {
      "text/plain": [
       "'Rohit'"
      ]
     },
     "execution_count": 27,
     "metadata": {},
     "output_type": "execute_result"
    }
   ],
   "source": [
    "batsmen[0]"
   ]
  },
  {
   "cell_type": "code",
   "execution_count": 29,
   "id": "cf3a43a8",
   "metadata": {},
   "outputs": [
    {
     "data": {
      "text/plain": [
       "'Dhoni'"
      ]
     },
     "execution_count": 29,
     "metadata": {},
     "output_type": "execute_result"
    }
   ],
   "source": [
    "batsmen[-1]"
   ]
  },
  {
   "cell_type": "code",
   "execution_count": 38,
   "id": "743ecdd3",
   "metadata": {},
   "outputs": [],
   "source": [
    "## Scilicing list"
   ]
  },
  {
   "cell_type": "code",
   "execution_count": 39,
   "id": "4bc9f819",
   "metadata": {},
   "outputs": [
    {
     "data": {
      "text/plain": [
       "['Rohit', 'Hardik', 'Dhawan', 'Kohli']"
      ]
     },
     "execution_count": 39,
     "metadata": {},
     "output_type": "execute_result"
    }
   ],
   "source": [
    "batsmen[:4]"
   ]
  },
  {
   "cell_type": "code",
   "execution_count": 30,
   "id": "c85823ed",
   "metadata": {},
   "outputs": [
    {
     "data": {
      "text/plain": [
       "7"
      ]
     },
     "execution_count": 30,
     "metadata": {},
     "output_type": "execute_result"
    }
   ],
   "source": [
    "len(batsmen)"
   ]
  },
  {
   "cell_type": "code",
   "execution_count": 31,
   "id": "2c0aecd2",
   "metadata": {},
   "outputs": [
    {
     "data": {
      "text/plain": [
       "['Rohit',\n",
       " 'Hardik',\n",
       " 'Dhawan',\n",
       " 'Kohli',\n",
       " 'Rahane',\n",
       " 'Rayudu',\n",
       " 'Dhoni',\n",
       " 'Bumrah',\n",
       " 'Shami',\n",
       " 'Bhuvi',\n",
       " 'Kuldeep',\n",
       " 'Chahal']"
      ]
     },
     "execution_count": 31,
     "metadata": {},
     "output_type": "execute_result"
    }
   ],
   "source": [
    "bowler=['Bumrah','Shami','Bhuvi','Kuldeep','Chahal']\n",
    "all_players=batsmen+bowler\n",
    "all_players"
   ]
  },
  {
   "cell_type": "code",
   "execution_count": 32,
   "id": "e7e93e19",
   "metadata": {},
   "outputs": [
    {
     "data": {
      "text/plain": [
       "True"
      ]
     },
     "execution_count": 32,
     "metadata": {},
     "output_type": "execute_result"
    }
   ],
   "source": [
    "'Bumrah' in bowler"
   ]
  },
  {
   "cell_type": "code",
   "execution_count": 33,
   "id": "b3fc8282",
   "metadata": {},
   "outputs": [
    {
     "data": {
      "text/plain": [
       "False"
      ]
     },
     "execution_count": 33,
     "metadata": {},
     "output_type": "execute_result"
    }
   ],
   "source": [
    "'Hardik' in bowler"
   ]
  },
  {
   "cell_type": "code",
   "execution_count": 34,
   "id": "962898b8",
   "metadata": {},
   "outputs": [
    {
     "data": {
      "text/plain": [
       "6"
      ]
     },
     "execution_count": 34,
     "metadata": {},
     "output_type": "execute_result"
    }
   ],
   "source": [
    "all_players.index('Dhoni')"
   ]
  },
  {
   "cell_type": "code",
   "execution_count": 37,
   "id": "96df3cf7",
   "metadata": {},
   "outputs": [
    {
     "data": {
      "text/plain": [
       "['Chahal',\n",
       " 'Kuldeep',\n",
       " 'Bhuvi',\n",
       " 'Shami',\n",
       " 'Bumrah',\n",
       " 'Dhoni',\n",
       " 'Rayudu',\n",
       " 'Rahane',\n",
       " 'Kohli',\n",
       " 'Dhawan',\n",
       " 'Hardik',\n",
       " 'Rohit']"
      ]
     },
     "execution_count": 37,
     "metadata": {},
     "output_type": "execute_result"
    }
   ],
   "source": [
    "all_players.reverse()\n",
    "all_players"
   ]
  },
  {
   "cell_type": "markdown",
   "id": "49ff854e",
   "metadata": {},
   "source": [
    "## Tuple"
   ]
  },
  {
   "cell_type": "code",
   "execution_count": 40,
   "id": "09d7017f",
   "metadata": {},
   "outputs": [
    {
     "data": {
      "text/plain": [
       "('Kolhi', 2008)"
      ]
     },
     "execution_count": 40,
     "metadata": {},
     "output_type": "execute_result"
    }
   ],
   "source": [
    "odiDebut=('Kolhi',2008)\n",
    "odiDebut"
   ]
  },
  {
   "cell_type": "code",
   "execution_count": 41,
   "id": "145ce3be",
   "metadata": {},
   "outputs": [
    {
     "data": {
      "text/plain": [
       "'Kolhi'"
      ]
     },
     "execution_count": 41,
     "metadata": {},
     "output_type": "execute_result"
    }
   ],
   "source": [
    "odiDebut[0]"
   ]
  },
  {
   "cell_type": "code",
   "execution_count": 44,
   "id": "14016cc7",
   "metadata": {},
   "outputs": [
    {
     "ename": "NameError",
     "evalue": "name 'tup1' is not defined",
     "output_type": "error",
     "traceback": [
      "\u001b[1;31m---------------------------------------------------------------------------\u001b[0m",
      "\u001b[1;31mNameError\u001b[0m                                 Traceback (most recent call last)",
      "Input \u001b[1;32mIn [44]\u001b[0m, in \u001b[0;36m<cell line: 1>\u001b[1;34m()\u001b[0m\n\u001b[1;32m----> 1\u001b[0m \u001b[43mtup1\u001b[49m[\u001b[38;5;241m1\u001b[39m]\u001b[38;5;241m=\u001b[39m\u001b[38;5;241m2009\u001b[39m\n",
      "\u001b[1;31mNameError\u001b[0m: name 'tup1' is not defined"
     ]
    }
   ],
   "source": [
    "tup1[1]=2009"
   ]
  },
  {
   "cell_type": "code",
   "execution_count": 45,
   "id": "4afa2ced",
   "metadata": {},
   "outputs": [
    {
     "data": {
      "text/plain": [
       "('Chahal',\n",
       " 'Kuldeep',\n",
       " 'Bhuvi',\n",
       " 'Shami',\n",
       " 'Bumrah',\n",
       " 'Dhoni',\n",
       " 'Rayudu',\n",
       " 'Rahane',\n",
       " 'Kohli',\n",
       " 'Dhawan',\n",
       " 'Hardik',\n",
       " 'Rohit')"
      ]
     },
     "execution_count": 45,
     "metadata": {},
     "output_type": "execute_result"
    }
   ],
   "source": [
    "players=tuple(all_players)\n",
    "players"
   ]
  },
  {
   "cell_type": "markdown",
   "id": "79ad7c4e",
   "metadata": {},
   "source": [
    "## Set"
   ]
  },
  {
   "cell_type": "code",
   "execution_count": 46,
   "id": "fae18f44",
   "metadata": {},
   "outputs": [
    {
     "data": {
      "text/plain": [
       "{1, 2, 3, 4}"
      ]
     },
     "execution_count": 46,
     "metadata": {},
     "output_type": "execute_result"
    }
   ],
   "source": [
    "setofnumbers={1,2,1,3,4,3}\n",
    "setofnumbers"
   ]
  },
  {
   "cell_type": "code",
   "execution_count": 47,
   "id": "c218c6b6",
   "metadata": {},
   "outputs": [],
   "source": [
    "wc2011={'Dhoni','Sehwag','Tendulkar','Gambhir','Kolhi','Raina','Yuvraj','Yusuf'}\n",
    "wc2015={'Dhoni','Dhawan','Rohit','Rahan','Kolhi','Raina','Rayudu','Jadeja'}"
   ]
  },
  {
   "cell_type": "code",
   "execution_count": 49,
   "id": "ee1596aa",
   "metadata": {},
   "outputs": [
    {
     "data": {
      "text/plain": [
       "{'Dhawan',\n",
       " 'Dhoni',\n",
       " 'Gambhir',\n",
       " 'Jadeja',\n",
       " 'Kolhi',\n",
       " 'Rahan',\n",
       " 'Raina',\n",
       " 'Rayudu',\n",
       " 'Rohit',\n",
       " 'Sehwag',\n",
       " 'Tendulkar',\n",
       " 'Yusuf',\n",
       " 'Yuvraj'}"
      ]
     },
     "execution_count": 49,
     "metadata": {},
     "output_type": "execute_result"
    }
   ],
   "source": [
    "wc2011.union(wc2015)"
   ]
  },
  {
   "cell_type": "markdown",
   "id": "bef011f1",
   "metadata": {},
   "source": [
    "## To find the list of batsmen to payed both"
   ]
  },
  {
   "cell_type": "code",
   "execution_count": 50,
   "id": "0a8906e7",
   "metadata": {},
   "outputs": [
    {
     "data": {
      "text/plain": [
       "{'Dhoni', 'Kolhi', 'Raina'}"
      ]
     },
     "execution_count": 50,
     "metadata": {},
     "output_type": "execute_result"
    }
   ],
   "source": [
    "wc2011.intersection(wc2015)"
   ]
  },
  {
   "cell_type": "markdown",
   "id": "e26ab685",
   "metadata": {},
   "source": [
    "## New batsmen in 2015 wc"
   ]
  },
  {
   "cell_type": "code",
   "execution_count": 51,
   "id": "88854645",
   "metadata": {},
   "outputs": [
    {
     "data": {
      "text/plain": [
       "{'Gambhir', 'Sehwag', 'Tendulkar', 'Yusuf', 'Yuvraj'}"
      ]
     },
     "execution_count": 51,
     "metadata": {},
     "output_type": "execute_result"
    }
   ],
   "source": [
    "wc2011.difference(wc2015)"
   ]
  },
  {
   "cell_type": "code",
   "execution_count": 52,
   "id": "2ed0bbe2",
   "metadata": {},
   "outputs": [
    {
     "data": {
      "text/plain": [
       "{'Dhawan', 'Jadeja', 'Rahan', 'Rayudu', 'Rohit'}"
      ]
     },
     "execution_count": 52,
     "metadata": {},
     "output_type": "execute_result"
    }
   ],
   "source": [
    "wc2015.difference(wc2011)"
   ]
  },
  {
   "cell_type": "markdown",
   "id": "6eef2e76",
   "metadata": {},
   "source": [
    "## Dictionary"
   ]
  },
  {
   "cell_type": "code",
   "execution_count": 55,
   "id": "d3408937",
   "metadata": {},
   "outputs": [],
   "source": [
    "wcwinners={1975:'West Indies',\n",
    "           1979:'West Indies',\n",
    "           1983:'India',\n",
    "           1987:'Australia',\n",
    "           1991:'Pakistan',\n",
    "           1996:'shree Lanka',\n",
    "           1999:'Australia',\n",
    "           2003:'Australia',\n",
    "           2007:'Australia',\n",
    "           2011:'India'}"
   ]
  },
  {
   "cell_type": "code",
   "execution_count": 57,
   "id": "78f4829d",
   "metadata": {},
   "outputs": [
    {
     "data": {
      "text/plain": [
       "'India'"
      ]
     },
     "execution_count": 57,
     "metadata": {},
     "output_type": "execute_result"
    }
   ],
   "source": [
    "wcwinners[1983]"
   ]
  },
  {
   "cell_type": "code",
   "execution_count": 59,
   "id": "8ffffbae",
   "metadata": {},
   "outputs": [
    {
     "data": {
      "text/plain": [
       "dict_values(['West Indies', 'West Indies', 'India', 'Australia', 'Pakistan', 'shree Lanka', 'Australia', 'Australia', 'Australia', 'India'])"
      ]
     },
     "execution_count": 59,
     "metadata": {},
     "output_type": "execute_result"
    }
   ],
   "source": [
    "wcwinners.values()"
   ]
  },
  {
   "cell_type": "code",
   "execution_count": 61,
   "id": "0d02e0c0",
   "metadata": {},
   "outputs": [
    {
     "data": {
      "text/plain": [
       "{'Australia', 'India', 'Pakistan', 'West Indies', 'shree Lanka'}"
      ]
     },
     "execution_count": 61,
     "metadata": {},
     "output_type": "execute_result"
    }
   ],
   "source": [
    "set(wcwinners.values())"
   ]
  },
  {
   "cell_type": "code",
   "execution_count": 63,
   "id": "cab8aa19",
   "metadata": {},
   "outputs": [],
   "source": [
    "wcwinners[2015]='Australia'"
   ]
  },
  {
   "cell_type": "code",
   "execution_count": 64,
   "id": "f5d7d129",
   "metadata": {},
   "outputs": [
    {
     "data": {
      "text/plain": [
       "{1975: 'West Indies',\n",
       " 1979: 'West Indies',\n",
       " 1983: 'India',\n",
       " 1987: 'Australia',\n",
       " 1991: 'Pakistan',\n",
       " 1996: 'shree Lanka',\n",
       " 1999: 'Australia',\n",
       " 2003: 'Australia',\n",
       " 2007: 'Australia',\n",
       " 2011: 'India',\n",
       " 2015: 'Australia'}"
      ]
     },
     "execution_count": 64,
     "metadata": {},
     "output_type": "execute_result"
    }
   ],
   "source": [
    "wcwinners"
   ]
  },
  {
   "cell_type": "markdown",
   "id": "da787faa",
   "metadata": {},
   "source": [
    "### Dealing with Strings"
   ]
  },
  {
   "cell_type": "code",
   "execution_count": 65,
   "id": "c3ea1480",
   "metadata": {},
   "outputs": [
    {
     "name": "stdout",
     "output_type": "stream",
     "text": [
      "python\n",
      "Machine Learning\n",
      "This is a multiline string\n"
     ]
    }
   ],
   "source": [
    "string0='python'\n",
    "string1=\"Machine Learning\"\n",
    "string2=\"\"\"This is a multiline string\"\"\"\n",
    "print(string0)\n",
    "print(string1)\n",
    "print(string2)"
   ]
  },
  {
   "cell_type": "code",
   "execution_count": 66,
   "id": "84a450a4",
   "metadata": {},
   "outputs": [
    {
     "data": {
      "text/plain": [
       "'python'"
      ]
     },
     "execution_count": 66,
     "metadata": {},
     "output_type": "execute_result"
    }
   ],
   "source": [
    "string0.lower()"
   ]
  },
  {
   "cell_type": "code",
   "execution_count": 67,
   "id": "a4dfce44",
   "metadata": {},
   "outputs": [
    {
     "data": {
      "text/plain": [
       "'PYTHON'"
      ]
     },
     "execution_count": 67,
     "metadata": {},
     "output_type": "execute_result"
    }
   ],
   "source": [
    "string0.upper()"
   ]
  },
  {
   "cell_type": "code",
   "execution_count": 68,
   "id": "f60afeb9",
   "metadata": {},
   "outputs": [
    {
     "data": {
      "text/plain": [
       "'machine learning'"
      ]
     },
     "execution_count": 68,
     "metadata": {},
     "output_type": "execute_result"
    }
   ],
   "source": [
    "string1.lower()"
   ]
  },
  {
   "cell_type": "code",
   "execution_count": 69,
   "id": "44493b1a",
   "metadata": {},
   "outputs": [
    {
     "data": {
      "text/plain": [
       "'MACHINE LEARNING'"
      ]
     },
     "execution_count": 69,
     "metadata": {},
     "output_type": "execute_result"
    }
   ],
   "source": [
    "string1.upper()"
   ]
  },
  {
   "cell_type": "code",
   "execution_count": 71,
   "id": "bf24b941",
   "metadata": {},
   "outputs": [
    {
     "data": {
      "text/plain": [
       "['Machine', 'Learning']"
      ]
     },
     "execution_count": 71,
     "metadata": {},
     "output_type": "execute_result"
    }
   ],
   "source": [
    "tokens=string1.split(' ')\n",
    "tokens"
   ]
  },
  {
   "cell_type": "markdown",
   "id": "fc341453",
   "metadata": {},
   "source": [
    "## Functional Programming"
   ]
  },
  {
   "cell_type": "code",
   "execution_count": 74,
   "id": "b8e05275",
   "metadata": {},
   "outputs": [],
   "source": [
    "intlist=[1,2,3,4,5,6,7,8,9]"
   ]
  },
  {
   "cell_type": "code",
   "execution_count": 76,
   "id": "82e20ca8",
   "metadata": {},
   "outputs": [
    {
     "name": "stdout",
     "output_type": "stream",
     "text": [
      "[1, 4, 9, 16, 25, 36, 49, 64, 81]\n"
     ]
    }
   ],
   "source": [
    "squarelist=[]\n",
    "for x in intlist:\n",
    "    squarelist.append(pow(x,2))\n",
    "print(squarelist)"
   ]
  },
  {
   "cell_type": "code",
   "execution_count": 77,
   "id": "55443587",
   "metadata": {},
   "outputs": [],
   "source": [
    "def square_me(x):\n",
    "    return x*x"
   ]
  },
  {
   "cell_type": "code",
   "execution_count": 78,
   "id": "5f022b12",
   "metadata": {},
   "outputs": [
    {
     "data": {
      "text/plain": [
       "[1, 4, 9, 16, 25, 36, 49, 64, 81]"
      ]
     },
     "execution_count": 78,
     "metadata": {},
     "output_type": "execute_result"
    }
   ],
   "source": [
    "squarelist=map(square_me,intlist)\n",
    "list(squarelist)"
   ]
  },
  {
   "cell_type": "code",
   "execution_count": 79,
   "id": "b6b82f09",
   "metadata": {},
   "outputs": [
    {
     "data": {
      "text/plain": [
       "[1, 4, 9, 16, 25, 36, 49, 64, 81]"
      ]
     },
     "execution_count": 79,
     "metadata": {},
     "output_type": "execute_result"
    }
   ],
   "source": [
    "squarelist=map(lambda x:x*x,intlist)\n",
    "list(squarelist)"
   ]
  },
  {
   "cell_type": "markdown",
   "id": "dd29fba1",
   "metadata": {},
   "source": [
    "### Filter"
   ]
  },
  {
   "cell_type": "code",
   "execution_count": 81,
   "id": "66af5235",
   "metadata": {},
   "outputs": [
    {
     "data": {
      "text/plain": [
       "[2, 4, 6, 8]"
      ]
     },
     "execution_count": 81,
     "metadata": {},
     "output_type": "execute_result"
    }
   ],
   "source": [
    "evenints=filter(lambda x:x%2==0,intlist)\n",
    "list(evenints)"
   ]
  },
  {
   "cell_type": "code",
   "execution_count": 82,
   "id": "009d8a0a",
   "metadata": {},
   "outputs": [
    {
     "data": {
      "text/plain": [
       "[1, 3, 5, 7, 9]"
      ]
     },
     "execution_count": 82,
     "metadata": {},
     "output_type": "execute_result"
    }
   ],
   "source": [
    "oddints=filter(lambda x:x%2!=0,intlist)\n",
    "list(oddints)"
   ]
  },
  {
   "cell_type": "markdown",
   "id": "89bea6e4",
   "metadata": {},
   "source": [
    "### Modules and packages"
   ]
  },
  {
   "cell_type": "code",
   "execution_count": 86,
   "id": "c735b045",
   "metadata": {},
   "outputs": [
    {
     "data": {
      "text/plain": [
       "4.0"
      ]
     },
     "execution_count": 86,
     "metadata": {},
     "output_type": "execute_result"
    }
   ],
   "source": [
    "import math\n",
    "math.sqrt(16)"
   ]
  },
  {
   "cell_type": "code",
   "execution_count": 89,
   "id": "70f068de",
   "metadata": {},
   "outputs": [
    {
     "data": {
      "text/plain": [
       "[9, 5, 2]"
      ]
     },
     "execution_count": 89,
     "metadata": {},
     "output_type": "execute_result"
    }
   ],
   "source": [
    "from random import sample\n",
    "sample(range(0,11),3)"
   ]
  },
  {
   "cell_type": "markdown",
   "id": "3d1f0a36",
   "metadata": {},
   "source": [
    "### other Feature"
   ]
  },
  {
   "cell_type": "code",
   "execution_count": 92,
   "id": "91d7144e",
   "metadata": {},
   "outputs": [
    {
     "data": {
      "text/plain": [
       "[97, 71, 8, 64, 38, 80, 86, 85, 94, 12, 56, 52, 22, 81, 63, 45, 0, 11, 79, 7]"
      ]
     },
     "execution_count": 92,
     "metadata": {},
     "output_type": "execute_result"
    }
   ],
   "source": [
    "import random\n",
    "randomlist=random.sample(range(0, 100), 20)\n",
    "randomlist"
   ]
  },
  {
   "cell_type": "code",
   "execution_count": 93,
   "id": "157935b8",
   "metadata": {},
   "outputs": [],
   "source": [
    "from statistics import mean,median\n",
    "def getMeanandMedian(listnum):\n",
    "    return mean(listnum),median(listnum)"
   ]
  },
  {
   "cell_type": "code",
   "execution_count": 95,
   "id": "94e94800",
   "metadata": {},
   "outputs": [
    {
     "name": "stdout",
     "output_type": "stream",
     "text": [
      "Mean: 52.55 Median: 59.5\n"
     ]
    }
   ],
   "source": [
    "mean,median=getMeanandMedian(randomlist)\n",
    "print(\"Mean:\",mean,\"Median:\",median)"
   ]
  },
  {
   "cell_type": "code",
   "execution_count": 1,
   "id": "b0794d55",
   "metadata": {},
   "outputs": [],
   "source": [
    "list1=[10,20,30,\"neha\"]\n",
    "list2=[10,20,30,\"neha\"]\n"
   ]
  },
  {
   "cell_type": "code",
   "execution_count": 2,
   "id": "5ff33bca",
   "metadata": {},
   "outputs": [
    {
     "data": {
      "text/plain": [
       "[10, 20, 30, 'neha', 10, 20, 30, 'neha']"
      ]
     },
     "execution_count": 2,
     "metadata": {},
     "output_type": "execute_result"
    }
   ],
   "source": [
    "list1+list2"
   ]
  },
  {
   "cell_type": "code",
   "execution_count": 10,
   "id": "08aa158a",
   "metadata": {},
   "outputs": [
    {
     "name": "stdout",
     "output_type": "stream",
     "text": [
      "<class 'list'>\n"
     ]
    }
   ],
   "source": [
    "l1=[1,2,3,4,[2,4,5,7]]\n",
    "print(type(l1))"
   ]
  },
  {
   "cell_type": "code",
   "execution_count": null,
   "id": "ab79d54d",
   "metadata": {},
   "outputs": [],
   "source": []
  },
  {
   "cell_type": "code",
   "execution_count": 6,
   "id": "42049008",
   "metadata": {},
   "outputs": [
    {
     "name": "stdout",
     "output_type": "stream",
     "text": [
      "12\n"
     ]
    }
   ],
   "source": [
    "l2=[3,4,5]\n",
    "print(sum(l2))"
   ]
  },
  {
   "cell_type": "code",
   "execution_count": 12,
   "id": "f95ab2c6",
   "metadata": {},
   "outputs": [
    {
     "ename": "SyntaxError",
     "evalue": "Missing parentheses in call to 'print'. Did you mean print(\"\\nhello\")? (2550249823.py, line 1)",
     "output_type": "error",
     "traceback": [
      "\u001b[1;36m  Input \u001b[1;32mIn [12]\u001b[1;36m\u001b[0m\n\u001b[1;33m    print \"\\nhello\"\u001b[0m\n\u001b[1;37m          ^\u001b[0m\n\u001b[1;31mSyntaxError\u001b[0m\u001b[1;31m:\u001b[0m Missing parentheses in call to 'print'. Did you mean print(\"\\nhello\")?\n"
     ]
    }
   ],
   "source": [
    "print \"\\nhello\""
   ]
  },
  {
   "cell_type": "code",
   "execution_count": 13,
   "id": "249a64de",
   "metadata": {},
   "outputs": [
    {
     "ename": "NameError",
     "evalue": "name 's1' is not defined",
     "output_type": "error",
     "traceback": [
      "\u001b[1;31m---------------------------------------------------------------------------\u001b[0m",
      "\u001b[1;31mNameError\u001b[0m                                 Traceback (most recent call last)",
      "Input \u001b[1;32mIn [13]\u001b[0m, in \u001b[0;36m<cell line: 1>\u001b[1;34m()\u001b[0m\n\u001b[1;32m----> 1\u001b[0m s3\u001b[38;5;241m=\u001b[39m\u001b[43ms1\u001b[49m\u001b[38;5;241m*\u001b[39ms2\n",
      "\u001b[1;31mNameError\u001b[0m: name 's1' is not defined"
     ]
    }
   ],
   "source": [
    "s3=s1*s2"
   ]
  },
  {
   "cell_type": "code",
   "execution_count": 14,
   "id": "0df99614",
   "metadata": {},
   "outputs": [
    {
     "ename": "TypeError",
     "evalue": "can't multiply sequence by non-int of type 'list'",
     "output_type": "error",
     "traceback": [
      "\u001b[1;31m---------------------------------------------------------------------------\u001b[0m",
      "\u001b[1;31mTypeError\u001b[0m                                 Traceback (most recent call last)",
      "Input \u001b[1;32mIn [14]\u001b[0m, in \u001b[0;36m<cell line: 3>\u001b[1;34m()\u001b[0m\n\u001b[0;32m      1\u001b[0m s1\u001b[38;5;241m=\u001b[39m[\u001b[38;5;241m1\u001b[39m,\u001b[38;5;241m2\u001b[39m,\u001b[38;5;241m3\u001b[39m]\n\u001b[0;32m      2\u001b[0m s2\u001b[38;5;241m=\u001b[39m[\u001b[38;5;241m2\u001b[39m,\u001b[38;5;241m3\u001b[39m,\u001b[38;5;241m4\u001b[39m]\n\u001b[1;32m----> 3\u001b[0m s3\u001b[38;5;241m=\u001b[39m\u001b[43ms1\u001b[49m\u001b[38;5;241;43m*\u001b[39;49m\u001b[43ms2\u001b[49m\n",
      "\u001b[1;31mTypeError\u001b[0m: can't multiply sequence by non-int of type 'list'"
     ]
    }
   ],
   "source": [
    "s1=[1,2,3]\n",
    "s2=[2,3,4]\n",
    "s3=s1*s2"
   ]
  },
  {
   "cell_type": "code",
   "execution_count": 15,
   "id": "eab2c4e6",
   "metadata": {},
   "outputs": [
    {
     "ename": "TypeError",
     "evalue": "can't multiply sequence by non-int of type 'tuple'",
     "output_type": "error",
     "traceback": [
      "\u001b[1;31m---------------------------------------------------------------------------\u001b[0m",
      "\u001b[1;31mTypeError\u001b[0m                                 Traceback (most recent call last)",
      "Input \u001b[1;32mIn [15]\u001b[0m, in \u001b[0;36m<cell line: 3>\u001b[1;34m()\u001b[0m\n\u001b[0;32m      1\u001b[0m s1\u001b[38;5;241m=\u001b[39m(\u001b[38;5;241m1\u001b[39m,\u001b[38;5;241m2\u001b[39m,\u001b[38;5;241m3\u001b[39m)\n\u001b[0;32m      2\u001b[0m s2\u001b[38;5;241m=\u001b[39m(\u001b[38;5;241m2\u001b[39m,\u001b[38;5;241m3\u001b[39m,\u001b[38;5;241m4\u001b[39m)\n\u001b[1;32m----> 3\u001b[0m s3\u001b[38;5;241m=\u001b[39m\u001b[43ms1\u001b[49m\u001b[38;5;241;43m*\u001b[39;49m\u001b[43ms2\u001b[49m\n",
      "\u001b[1;31mTypeError\u001b[0m: can't multiply sequence by non-int of type 'tuple'"
     ]
    }
   ],
   "source": [
    "s1=(1,2,3)\n",
    "s2=(2,3,4)\n",
    "s3=s1*s2"
   ]
  },
  {
   "cell_type": "code",
   "execution_count": 16,
   "id": "df3e4317",
   "metadata": {},
   "outputs": [
    {
     "ename": "TypeError",
     "evalue": "unsupported operand type(s) for *: 'set' and 'set'",
     "output_type": "error",
     "traceback": [
      "\u001b[1;31m---------------------------------------------------------------------------\u001b[0m",
      "\u001b[1;31mTypeError\u001b[0m                                 Traceback (most recent call last)",
      "Input \u001b[1;32mIn [16]\u001b[0m, in \u001b[0;36m<cell line: 3>\u001b[1;34m()\u001b[0m\n\u001b[0;32m      1\u001b[0m s1\u001b[38;5;241m=\u001b[39m{\u001b[38;5;241m1\u001b[39m,\u001b[38;5;241m2\u001b[39m,\u001b[38;5;241m3\u001b[39m}\n\u001b[0;32m      2\u001b[0m s2\u001b[38;5;241m=\u001b[39m{\u001b[38;5;241m2\u001b[39m,\u001b[38;5;241m3\u001b[39m,\u001b[38;5;241m4\u001b[39m}\n\u001b[1;32m----> 3\u001b[0m s3\u001b[38;5;241m=\u001b[39m\u001b[43ms1\u001b[49m\u001b[38;5;241;43m*\u001b[39;49m\u001b[43ms2\u001b[49m\n",
      "\u001b[1;31mTypeError\u001b[0m: unsupported operand type(s) for *: 'set' and 'set'"
     ]
    }
   ],
   "source": [
    "s1={1,2,3}\n",
    "s2={2,3,4}\n",
    "s3=s1*s2"
   ]
  },
  {
   "cell_type": "code",
   "execution_count": 18,
   "id": "081bf3fb",
   "metadata": {},
   "outputs": [
    {
     "name": "stdout",
     "output_type": "stream",
     "text": [
      "68\n"
     ]
    }
   ],
   "source": [
    "s1=34\n",
    "s2=2\n",
    "s3=s1*s2\n",
    "print(s3)"
   ]
  },
  {
   "cell_type": "code",
   "execution_count": 19,
   "id": "9e5efb8e",
   "metadata": {},
   "outputs": [
    {
     "name": "stdout",
     "output_type": "stream",
     "text": [
      "36\n"
     ]
    }
   ],
   "source": [
    "s1=34\n",
    "s2=2\n",
    "s3=s1+s2\n",
    "print(s3)"
   ]
  },
  {
   "cell_type": "code",
   "execution_count": 20,
   "id": "970e0750",
   "metadata": {},
   "outputs": [
    {
     "ename": "AttributeError",
     "evalue": "'int' object has no attribute 's2'",
     "output_type": "error",
     "traceback": [
      "\u001b[1;31m---------------------------------------------------------------------------\u001b[0m",
      "\u001b[1;31mAttributeError\u001b[0m                            Traceback (most recent call last)",
      "Input \u001b[1;32mIn [20]\u001b[0m, in \u001b[0;36m<cell line: 3>\u001b[1;34m()\u001b[0m\n\u001b[0;32m      1\u001b[0m s1\u001b[38;5;241m=\u001b[39m\u001b[38;5;241m34\u001b[39m\n\u001b[0;32m      2\u001b[0m s2\u001b[38;5;241m=\u001b[39m\u001b[38;5;241m2\u001b[39m\n\u001b[1;32m----> 3\u001b[0m s3\u001b[38;5;241m=\u001b[39m\u001b[43ms1\u001b[49m\u001b[38;5;241;43m.\u001b[39;49m\u001b[43ms2\u001b[49m\n\u001b[0;32m      4\u001b[0m \u001b[38;5;28mprint\u001b[39m(s3)\n",
      "\u001b[1;31mAttributeError\u001b[0m: 'int' object has no attribute 's2'"
     ]
    }
   ],
   "source": [
    "s1=34\n",
    "s2=2\n",
    "s3=s1.s2\n",
    "print(s3)"
   ]
  },
  {
   "cell_type": "code",
   "execution_count": 22,
   "id": "47b02738",
   "metadata": {},
   "outputs": [
    {
     "ename": "NameError",
     "evalue": "name 'add' is not defined",
     "output_type": "error",
     "traceback": [
      "\u001b[1;31m---------------------------------------------------------------------------\u001b[0m",
      "\u001b[1;31mNameError\u001b[0m                                 Traceback (most recent call last)",
      "Input \u001b[1;32mIn [22]\u001b[0m, in \u001b[0;36m<cell line: 3>\u001b[1;34m()\u001b[0m\n\u001b[0;32m      1\u001b[0m s1\u001b[38;5;241m=\u001b[39m\u001b[38;5;241m34\u001b[39m\n\u001b[0;32m      2\u001b[0m s2\u001b[38;5;241m=\u001b[39m\u001b[38;5;241m2\u001b[39m\n\u001b[1;32m----> 3\u001b[0m s3\u001b[38;5;241m=\u001b[39ms1\u001b[38;5;241m-\u001b[39m\u001b[43madd\u001b[49m\u001b[38;5;241m-\u001b[39m(s2)\n\u001b[0;32m      4\u001b[0m \u001b[38;5;28mprint\u001b[39m(s3)\n",
      "\u001b[1;31mNameError\u001b[0m: name 'add' is not defined"
     ]
    }
   ],
   "source": [
    "s1=34\n",
    "s2=2\n",
    "s3=s1-add-(s2)\n",
    "print(s3)"
   ]
  },
  {
   "cell_type": "code",
   "execution_count": 24,
   "id": "4ef81dcb",
   "metadata": {},
   "outputs": [
    {
     "name": "stdout",
     "output_type": "stream",
     "text": [
      "i\n"
     ]
    }
   ],
   "source": [
    "name=[\"Puja\",\"sujata\",\"swati\"]\n",
    "print(name[-1][-1])"
   ]
  },
  {
   "cell_type": "code",
   "execution_count": 26,
   "id": "8603ccd9",
   "metadata": {},
   "outputs": [
    {
     "data": {
      "text/plain": [
       "inf"
      ]
     },
     "execution_count": 26,
     "metadata": {},
     "output_type": "execute_result"
    }
   ],
   "source": [
    "float('inf')"
   ]
  },
  {
   "cell_type": "code",
   "execution_count": 27,
   "id": "130775ba",
   "metadata": {},
   "outputs": [
    {
     "data": {
      "text/plain": [
       "nan"
      ]
     },
     "execution_count": 27,
     "metadata": {},
     "output_type": "execute_result"
    }
   ],
   "source": [
    "float('nan')"
   ]
  },
  {
   "cell_type": "code",
   "execution_count": 28,
   "id": "3f432eb7",
   "metadata": {},
   "outputs": [
    {
     "data": {
      "text/plain": [
       "5678.0"
      ]
     },
     "execution_count": 28,
     "metadata": {},
     "output_type": "execute_result"
    }
   ],
   "source": [
    "float('56'+'78')"
   ]
  },
  {
   "cell_type": "code",
   "execution_count": 29,
   "id": "4a10924d",
   "metadata": {},
   "outputs": [
    {
     "ename": "ValueError",
     "evalue": "could not convert string to float: '12+34'",
     "output_type": "error",
     "traceback": [
      "\u001b[1;31m---------------------------------------------------------------------------\u001b[0m",
      "\u001b[1;31mValueError\u001b[0m                                Traceback (most recent call last)",
      "Input \u001b[1;32mIn [29]\u001b[0m, in \u001b[0;36m<cell line: 1>\u001b[1;34m()\u001b[0m\n\u001b[1;32m----> 1\u001b[0m \u001b[38;5;28;43mfloat\u001b[39;49m\u001b[43m(\u001b[49m\u001b[38;5;124;43m'\u001b[39;49m\u001b[38;5;124;43m12+34\u001b[39;49m\u001b[38;5;124;43m'\u001b[39;49m\u001b[43m)\u001b[49m\n",
      "\u001b[1;31mValueError\u001b[0m: could not convert string to float: '12+34'"
     ]
    }
   ],
   "source": [
    "float('12+34')"
   ]
  },
  {
   "cell_type": "code",
   "execution_count": 30,
   "id": "57d24c41",
   "metadata": {},
   "outputs": [
    {
     "data": {
      "text/plain": [
       "512"
      ]
     },
     "execution_count": 30,
     "metadata": {},
     "output_type": "execute_result"
    }
   ],
   "source": [
    "2**(3**2)"
   ]
  },
  {
   "cell_type": "code",
   "execution_count": 31,
   "id": "0d1edfca",
   "metadata": {},
   "outputs": [
    {
     "data": {
      "text/plain": [
       "64"
      ]
     },
     "execution_count": 31,
     "metadata": {},
     "output_type": "execute_result"
    }
   ],
   "source": [
    "(2**3)**2"
   ]
  },
  {
   "cell_type": "code",
   "execution_count": 32,
   "id": "194b24da",
   "metadata": {},
   "outputs": [
    {
     "data": {
      "text/plain": [
       "9"
      ]
     },
     "execution_count": 32,
     "metadata": {},
     "output_type": "execute_result"
    }
   ],
   "source": [
    "3**2"
   ]
  },
  {
   "cell_type": "code",
   "execution_count": 33,
   "id": "6fcccaf9",
   "metadata": {},
   "outputs": [
    {
     "data": {
      "text/plain": [
       "512"
      ]
     },
     "execution_count": 33,
     "metadata": {},
     "output_type": "execute_result"
    }
   ],
   "source": [
    "2**3**2"
   ]
  },
  {
   "cell_type": "code",
   "execution_count": 34,
   "id": "670c995f",
   "metadata": {},
   "outputs": [
    {
     "data": {
      "text/plain": [
       "512"
      ]
     },
     "execution_count": 34,
     "metadata": {},
     "output_type": "execute_result"
    }
   ],
   "source": [
    "2**9"
   ]
  },
  {
   "cell_type": "code",
   "execution_count": 35,
   "id": "b5a2bf7c",
   "metadata": {},
   "outputs": [
    {
     "data": {
      "text/plain": [
       "7"
      ]
     },
     "execution_count": 35,
     "metadata": {},
     "output_type": "execute_result"
    }
   ],
   "source": [
    "(22//3) ## ans in string"
   ]
  },
  {
   "cell_type": "code",
   "execution_count": 41,
   "id": "a2ff53b8",
   "metadata": {},
   "outputs": [
    {
     "data": {
      "text/plain": [
       "7.333333333333333"
      ]
     },
     "execution_count": 41,
     "metadata": {},
     "output_type": "execute_result"
    }
   ],
   "source": [
    "22/3    ## ans in float"
   ]
  },
  {
   "cell_type": "code",
   "execution_count": 39,
   "id": "c4a622c3",
   "metadata": {},
   "outputs": [
    {
     "data": {
      "text/plain": [
       "1"
      ]
     },
     "execution_count": 39,
     "metadata": {},
     "output_type": "execute_result"
    }
   ],
   "source": [
    "(22%3)  ## reminder"
   ]
  },
  {
   "cell_type": "code",
   "execution_count": null,
   "id": "114a1099",
   "metadata": {},
   "outputs": [],
   "source": []
  }
 ],
 "metadata": {
  "kernelspec": {
   "display_name": "Python 3 (ipykernel)",
   "language": "python",
   "name": "python3"
  },
  "language_info": {
   "codemirror_mode": {
    "name": "ipython",
    "version": 3
   },
   "file_extension": ".py",
   "mimetype": "text/x-python",
   "name": "python",
   "nbconvert_exporter": "python",
   "pygments_lexer": "ipython3",
   "version": "3.9.12"
  }
 },
 "nbformat": 4,
 "nbformat_minor": 5
}
